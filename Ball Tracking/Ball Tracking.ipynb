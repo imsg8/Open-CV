{
 "cells": [
  {
   "cell_type": "markdown",
   "metadata": {},
   "source": [
    "# BALL TRACKING"
   ]
  },
  {
   "cell_type": "code",
   "execution_count": null,
   "metadata": {},
   "outputs": [],
   "source": [
    "import cv2\n",
    "import numpy as np\n",
    "\n",
    "#these are HSV values.\n",
    "lowcol = np.array([29, 86, 6])\n",
    "upcol = np.array([64, 255, 255])\n",
    "\n",
    "# Provide the path to your video file\n",
    "path = 'datapath/to/ball_tracking.mp4'\n",
    "vid = (path)\n",
    "\n",
    "capture = cv2.VideoCapture(vid)\n",
    "\n",
    "while True:\n",
    "    retrieve, frame = capture.read()\n",
    "    if not retrieve:\n",
    "        break\n",
    "\n",
    "    hsv = cv2.cvtColor(frame, cv2.COLOR_BGR2HSV)\n",
    "\n",
    "    mask = cv2.inRange(hsv, lowcol, upcol)\n",
    "\n",
    "    # noise reduction\n",
    "    mask = cv2.erode(mask, None, iterations=5)\n",
    "    mask = cv2.dilate(mask, None, iterations=5)\n",
    "\n",
    "    contours, _ = cv2.findContours(mask.copy(), cv2.RETR_EXTERNAL, cv2.CHAIN_APPROX_SIMPLE)\n",
    "\n",
    "    if contours:\n",
    "        # Find the largest contour\n",
    "        lar_contour = max(contours, key=cv2.contourArea)\n",
    "\n",
    "        ((x, y), radius) = cv2.minEnclosingCircle(lar_contour)\n",
    "\n",
    "        #add centre and centroid\n",
    "        if radius > 10:\n",
    "            cv2.circle(frame, (int(x), int(y)), int(radius), (0, 255, 255), 2)\n",
    "            # cv2.circle(frame, (int(x), int(y)), 5, (0, 0, 255), -1)\n",
    "\n",
    "    cv2.imshow('Ball Tracking', frame)\n",
    "\n",
    "    if cv2.waitKey(5) & 0xFF == ord('q'):  # Press 'Esc' key to exit\n",
    "        break\n",
    "\n",
    "capture.release()\n",
    "cv2.destroyAllWindows()"
   ]
  }
 ],
 "metadata": {
  "kernelspec": {
   "display_name": "Python 3 (ipykernel)",
   "language": "python",
   "name": "python3"
  },
  "language_info": {
   "codemirror_mode": {
    "name": "ipython",
    "version": 3
   },
   "file_extension": ".py",
   "mimetype": "text/x-python",
   "name": "python",
   "nbconvert_exporter": "python",
   "pygments_lexer": "ipython3",
   "version": "3.9.6"
  }
 },
 "nbformat": 4,
 "nbformat_minor": 4
}
